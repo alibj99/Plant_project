{
 "cells": [
  {
   "cell_type": "code",
   "execution_count": 3,
   "id": "3fadc1e2",
   "metadata": {},
   "outputs": [],
   "source": [
    "import my_func"
   ]
  },
  {
   "cell_type": "code",
   "execution_count": 4,
   "id": "4d186f04",
   "metadata": {},
   "outputs": [
    {
     "name": "stdout",
     "output_type": "stream",
     "text": [
      "Welcome to Plant Care Tracker!\n",
      "\n",
      "=== Plant Care Tracker ===\n",
      "1. Add a new plant to the collection\n",
      "2. Record a plant care activity\n",
      "3. View plants due for care\n",
      "4. Search plants\n",
      "5. View all plants\n",
      "6. Exit\n",
      "Thank you for using Plant Care Tracker. Goodbye!\n"
     ]
    }
   ],
   "source": [
    "my_func.main()"
   ]
  },
  {
   "cell_type": "code",
   "execution_count": null,
   "id": "d7174c0d",
   "metadata": {},
   "outputs": [],
   "source": []
  }
 ],
 "metadata": {
  "kernelspec": {
   "display_name": "base",
   "language": "python",
   "name": "python3"
  },
  "language_info": {
   "codemirror_mode": {
    "name": "ipython",
    "version": 3
   },
   "file_extension": ".py",
   "mimetype": "text/x-python",
   "name": "python",
   "nbconvert_exporter": "python",
   "pygments_lexer": "ipython3",
   "version": "3.12.7"
  }
 },
 "nbformat": 4,
 "nbformat_minor": 5
}
